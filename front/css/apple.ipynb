{
 "cells": [
  {
   "cell_type": "code",
   "execution_count": 3,
   "id": "eb36482f",
   "metadata": {},
   "outputs": [
    {
     "name": "stdout",
     "output_type": "stream",
     "text": [
      "^C\n",
      "Note: you may need to restart the kernel to use updated packages.\n",
      "Defaulting to user installation because normal site-packages is not writeable\n",
      "Requirement already satisfied: pyautogui in c:\\users\\samsung\\appdata\\roaming\\python\\python312\\site-packages (0.9.54)\n",
      "Requirement already satisfied: pymsgbox in c:\\users\\samsung\\appdata\\roaming\\python\\python312\\site-packages (from pyautogui) (1.0.9)\n",
      "Requirement already satisfied: pytweening>=1.0.4 in c:\\users\\samsung\\appdata\\roaming\\python\\python312\\site-packages (from pyautogui) (1.2.0)\n",
      "Requirement already satisfied: pyscreeze>=0.1.21 in c:\\users\\samsung\\appdata\\roaming\\python\\python312\\site-packages (from pyautogui) (1.0.1)\n",
      "Requirement already satisfied: pygetwindow>=0.0.5 in c:\\users\\samsung\\appdata\\roaming\\python\\python312\\site-packages (from pyautogui) (0.0.9)\n",
      "Requirement already satisfied: mouseinfo in c:\\users\\samsung\\appdata\\roaming\\python\\python312\\site-packages (from pyautogui) (0.1.3)\n",
      "Requirement already satisfied: pyrect in c:\\users\\samsung\\appdata\\roaming\\python\\python312\\site-packages (from pygetwindow>=0.0.5->pyautogui) (0.2.0)\n",
      "Requirement already satisfied: pyperclip in c:\\users\\samsung\\appdata\\roaming\\python\\python312\\site-packages (from mouseinfo->pyautogui) (1.9.0)\n"
     ]
    },
    {
     "ename": "ModuleNotFoundError",
     "evalue": "No module named 'pyautogui'",
     "output_type": "error",
     "traceback": [
      "\u001b[1;31m---------------------------------------------------------------------------\u001b[0m",
      "\u001b[1;31mModuleNotFoundError\u001b[0m                       Traceback (most recent call last)",
      "Cell \u001b[1;32mIn[3], line 2\u001b[0m\n\u001b[0;32m      1\u001b[0m get_ipython()\u001b[38;5;241m.\u001b[39mrun_line_magic(\u001b[38;5;124m'\u001b[39m\u001b[38;5;124mpip\u001b[39m\u001b[38;5;124m'\u001b[39m, \u001b[38;5;124m'\u001b[39m\u001b[38;5;124minstall pyautogui\u001b[39m\u001b[38;5;124m'\u001b[39m)\n\u001b[1;32m----> 2\u001b[0m \u001b[38;5;28;01mimport\u001b[39;00m \u001b[38;5;21;01mpyautogui\u001b[39;00m\n\u001b[0;32m      3\u001b[0m \u001b[38;5;28;01mimport\u001b[39;00m \u001b[38;5;21;01mpandas\u001b[39;00m \u001b[38;5;28;01mas\u001b[39;00m \u001b[38;5;21;01mpd\u001b[39;00m\n\u001b[0;32m      4\u001b[0m df \u001b[38;5;241m=\u001b[39m pd\u001b[38;5;241m.\u001b[39mDataFrame(columns\u001b[38;5;241m=\u001b[39m[\u001b[38;5;124m'\u001b[39m\u001b[38;5;124mnum\u001b[39m\u001b[38;5;124m'\u001b[39m, \u001b[38;5;124m'\u001b[39m\u001b[38;5;124mtop\u001b[39m\u001b[38;5;124m'\u001b[39m, \u001b[38;5;124m'\u001b[39m\u001b[38;5;124mleft\u001b[39m\u001b[38;5;124m'\u001b[39m, \u001b[38;5;124m'\u001b[39m\u001b[38;5;124mwidth\u001b[39m\u001b[38;5;124m'\u001b[39m, \u001b[38;5;124m'\u001b[39m\u001b[38;5;124mheight\u001b[39m\u001b[38;5;124m'\u001b[39m])\n",
      "\u001b[1;31mModuleNotFoundError\u001b[0m: No module named 'pyautogui'"
     ]
    }
   ],
   "source": [
    "%pip install pyautogui\n",
    "import pyautogui\n",
    "import pandas as pd\n",
    "df = pd.DataFrame(columns=['num', 'top', 'left', 'width', 'height'])\n",
    "img_path = './imgs/'\n",
    "\n",
    "ll = 0\n",
    "for i in range(1, 9+1):\n",
    "    positions = pyautogui.locateAllOnScreen(f'{img_path}{i}.png', confidence=0.90)\n",
    "    for pos in positions:\n",
    "        new_row = {'num':i, 'top':pos.top, 'left':pos.left, \n",
    "                   'width':pos.width, 'height':pos.height}\n",
    "        df = pd.concat([df, pd.DataFrame([new_row])], ignore_index=True)\n",
    "        ll += 1\n",
    "        \n",
    "import os\n",
    "os.environ[\"LOKY_MAX_CPU_COUNT\"] = \"4\"\n",
    "os.environ[\"OMP_NUM_THREADS\"] = \"2\"\n",
    "\n",
    "from sklearn.cluster import KMeans\n",
    "kmeans = KMeans(n_clusters=170)\n",
    "kmeans.fit(df[['top', 'left']])\n",
    "df['cluster'] = kmeans.labels_\n",
    "df = df.groupby(by='cluster').mean()\n",
    "\n",
    "kmeans = KMeans(n_clusters=17)\n",
    "kmeans.fit(df[['left']])\n",
    "df['x_cls'] = kmeans.labels_\n",
    "\n",
    "kmeans = KMeans(n_clusters=10)\n",
    "kmeans.fit(df[['top']])\n",
    "df['y_cls'] = kmeans.labels_\n",
    "\n",
    "for xi in range(17):\n",
    "    mean_value = df.loc[df['x_cls'] == xi, 'left'].mean()  # 먼저 평균값 계산\n",
    "    df.loc[df['x_cls'] == xi, 'left'] = mean_value  # loc를 사용하여 값 업데이트\n",
    "for xi in range(10):\n",
    "    mean_value = df.loc[df['y_cls'] == xi, 'top'].mean()  # 먼저 평균값 계산\n",
    "    df.loc[df['y_cls'] == xi, 'top'] = mean_value  # loc를 사용하여 값 업데이트\n",
    "\n",
    "import numpy as np\n",
    "df = df.sort_values(by=['top', 'left']).reset_index(drop=True)\n",
    "num1d = np.array(df['num'].values.tolist(), dtype=int)\n",
    "num2d = num1d.reshape(10, 17)\n",
    "\n",
    "import pyautogui\n",
    "import keyboard\n",
    "xloc = df['left'].unique()\n",
    "yloc = df['top'].unique()\n",
    "\n",
    "dx = np.mean(np.diff(xloc))\n",
    "dy = np.mean(np.diff(yloc))\n",
    "xloc_mouse = xloc - 0.25 * dx\n",
    "yloc_mouse = yloc - 0.25 * dy\n",
    "\n",
    "def mouse_move(xi, yi, w, h, duration):\n",
    "    pyautogui.moveTo( xloc_mouse[xi], yloc_mouse[yi], duration=duration)\n",
    "    pyautogui.mouseDown()\n",
    "    pyautogui.moveTo(xloc_mouse[xi] + (w+1)*dx, yloc_mouse[yi] + (h+1)*dy,  duration=duration)\n",
    "    pyautogui.moveTo(xloc_mouse[xi] + (w+1)*dx, yloc_mouse[yi] + (h+1)*dy,  duration=duration)\n",
    "    pyautogui.mouseUp()\n",
    "\n",
    "duration = 0.01\n",
    "for _ in range(10):\n",
    "    for yi in range(10):\n",
    "        for xi in range(17):\n",
    "            if keyboard.is_pressed(\"q\"):  \n",
    "                break\n",
    "            w_max, h_max = 17 - xi, 10 - yi\n",
    "            for h in range(h_max):\n",
    "                for w in range(w_max):\n",
    "                    if np.sum(num2d[yi: yi + h+1, xi: xi + w+1]) == 10:\n",
    "                        num2d[yi: yi + h+1, xi: xi + w+1] = 0\n",
    "                        mouse_move(xi, yi, w, h, duration)"
   ]
  }
 ],
 "metadata": {
  "kernelspec": {
   "display_name": "base",
   "language": "python",
   "name": "python3"
  },
  "language_info": {
   "codemirror_mode": {
    "name": "ipython",
    "version": 3
   },
   "file_extension": ".py",
   "mimetype": "text/x-python",
   "name": "python",
   "nbconvert_exporter": "python",
   "pygments_lexer": "ipython3",
   "version": "3.12.7"
  }
 },
 "nbformat": 4,
 "nbformat_minor": 5
}
